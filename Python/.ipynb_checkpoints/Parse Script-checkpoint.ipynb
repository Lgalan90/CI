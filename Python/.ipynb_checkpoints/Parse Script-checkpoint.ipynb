{
 "cells": [
  {
   "cell_type": "code",
   "execution_count": 29,
   "metadata": {},
   "outputs": [
    {
     "name": "stdout",
     "output_type": "stream",
     "text": [
      "luis galan\n",
      "panda pulpo\n",
      "gusto mucho\n",
      "maeve valeera\n",
      "luz clarita\n",
      "dillon pickles\n",
      "tan tickles\n",
      "pepe perez\n",
      "amanada banana\n",
      "sam checko\n",
      "marca tony\n",
      "ant main\n",
      "frank polak\n",
      "pino nior\n"
     ]
    }
   ],
   "source": [
    "import csv\n",
    "\n",
    "html_output = ''\n",
    "names = []\n",
    "\n",
    "with open('parseFile.csv', 'r') as data_file:\n",
    "    csv_data = csv.reader(data_file)\n",
    "    \n",
    "    # we don't want headers or the first line, skips the first line\n",
    "    next(csv_data)\n",
    "    \n",
    "    for line in csv_data:\n",
    "        if line[0] == \"dont add anyone after this line\":\n",
    "            break\n",
    "        names.append(f\"{line[0]} {line[1]}\")\n",
    "\n",
    "\n",
    "for name in names:\n",
    "    print(name)"
   ]
  },
  {
   "cell_type": "code",
   "execution_count": 30,
   "metadata": {},
   "outputs": [
    {
     "name": "stdout",
     "output_type": "stream",
     "text": [
      "<p>There are currently 14 names on this list.</p>\n",
      "<ul>\n",
      "\t<li>luis galan</li>\n",
      "\t<li>panda pulpo</li>\n",
      "\t<li>gusto mucho</li>\n",
      "\t<li>maeve valeera</li>\n",
      "\t<li>luz clarita</li>\n",
      "\t<li>dillon pickles</li>\n",
      "\t<li>tan tickles</li>\n",
      "\t<li>pepe perez</li>\n",
      "\t<li>amanada banana</li>\n",
      "\t<li>sam checko</li>\n",
      "\t<li>marca tony</li>\n",
      "\t<li>ant main</li>\n",
      "\t<li>frank polak</li>\n",
      "\t<li>pino nior</li>\n",
      "</ul>\n"
     ]
    }
   ],
   "source": [
    "import csv\n",
    "\n",
    "html_output = ''\n",
    "names = []\n",
    "\n",
    "with open('parseFile.csv', 'r') as data_file:\n",
    "    csv_data = csv.reader(data_file)\n",
    "    \n",
    "    # we don't want headers or the first line, skips the first line\n",
    "    next(csv_data)\n",
    "    \n",
    "    for line in csv_data:\n",
    "        if line[0] == \"dont add anyone after this line\":\n",
    "            break\n",
    "        names.append(f\"{line[0]} {line[1]}\")\n",
    "\n",
    "html_output += f\"<p>There are currently {len(names)} names on this list.</p>\"\n",
    "html_output += \"\\n<ul>\"\n",
    "\n",
    "for name in names:\n",
    "    html_output += f\"\\n\\t<li>{name}</li>\"\n",
    "\n",
    "html_output += \"\\n</ul>\"\n",
    "    \n",
    "print(html_output)"
   ]
  },
  {
   "cell_type": "code",
   "execution_count": 11,
   "metadata": {},
   "outputs": [
    {
     "name": "stdout",
     "output_type": "stream",
     "text": [
      "OrderedDict([('firstName', 'luis'), ('lastName', 'galan'), ('email', ''), ('date', '11/2/14')])\n",
      "OrderedDict([('firstName', 'panda'), ('lastName', 'pulpo'), ('email', ''), ('date', '11/3/14')])\n",
      "OrderedDict([('firstName', 'gusto'), ('lastName', 'mucho'), ('email', ''), ('date', '11/4/14')])\n",
      "OrderedDict([('firstName', 'maeve'), ('lastName', 'valeera'), ('email', ''), ('date', '11/5/14')])\n",
      "OrderedDict([('firstName', 'luz'), ('lastName', 'clarita'), ('email', ''), ('date', '11/6/14')])\n",
      "OrderedDict([('firstName', 'dillon'), ('lastName', 'pickles'), ('email', ''), ('date', '11/7/14')])\n",
      "OrderedDict([('firstName', 'tan'), ('lastName', 'tickles'), ('email', ''), ('date', '11/8/14')])\n",
      "OrderedDict([('firstName', 'pepe'), ('lastName', 'perez'), ('email', ''), ('date', '11/9/14')])\n",
      "OrderedDict([('firstName', 'amanada'), ('lastName', 'banana'), ('email', ''), ('date', '11/10/14')])\n",
      "OrderedDict([('firstName', 'sam'), ('lastName', 'checko'), ('email', ''), ('date', '11/11/14')])\n",
      "OrderedDict([('firstName', 'marca'), ('lastName', 'tony'), ('email', ''), ('date', '11/12/14')])\n",
      "OrderedDict([('firstName', 'ant'), ('lastName', 'main'), ('email', ''), ('date', '11/13/14')])\n",
      "OrderedDict([('firstName', 'frank'), ('lastName', 'polak'), ('email', ''), ('date', '11/14/14')])\n",
      "OrderedDict([('firstName', 'pino'), ('lastName', 'nior'), ('email', ''), ('date', '11/15/14')])\n",
      "OrderedDict([('firstName', 'dont add anyone after this line'), ('lastName', ''), ('email', ''), ('date', '')])\n",
      "OrderedDict([('firstName', 'anonymous'), ('lastName', 'james'), ('email', ''), ('date', '11/16/14')])\n",
      "OrderedDict([('firstName', 'secret'), ('lastName', 'santa'), ('email', ''), ('date', '11/17/14')])\n"
     ]
    }
   ],
   "source": [
    "import csv\n",
    "\n",
    "html_output = ''\n",
    "names = []\n",
    "\n",
    "# encoding=\"utf-8-sig\" removes the \\ufeff before firstName\n",
    "with open('parseFile.csv', 'r', encoding=\"utf-8-sig\") as data_file:\n",
    "    csv_data = csv.DictReader(data_file)\n",
    "    \n",
    "    for name in csv_data:\n",
    "        print(name)\n"
   ]
  },
  {
   "cell_type": "code",
   "execution_count": 12,
   "metadata": {},
   "outputs": [
    {
     "name": "stdout",
     "output_type": "stream",
     "text": [
      "<p>There are currently 14 names on this list.</p>\n",
      "<ul>\n",
      "\t<li>luis galan</li>\n",
      "\t<li>panda pulpo</li>\n",
      "\t<li>gusto mucho</li>\n",
      "\t<li>maeve valeera</li>\n",
      "\t<li>luz clarita</li>\n",
      "\t<li>dillon pickles</li>\n",
      "\t<li>tan tickles</li>\n",
      "\t<li>pepe perez</li>\n",
      "\t<li>amanada banana</li>\n",
      "\t<li>sam checko</li>\n",
      "\t<li>marca tony</li>\n",
      "\t<li>ant main</li>\n",
      "\t<li>frank polak</li>\n",
      "\t<li>pino nior</li>\n",
      "</ul>\n"
     ]
    }
   ],
   "source": [
    "import csv\n",
    "\n",
    "html_output = ''\n",
    "names = []\n",
    "\n",
    "# encoding=\"utf-8-sig\" removes the \\ufeff before firstName\n",
    "with open('parseFile.csv', 'r', encoding=\"utf-8-sig\") as data_file:\n",
    "    csv_data = csv.DictReader(data_file)\n",
    "    \n",
    "    # headers are now included in the output\n",
    "    #next(csv_data)\n",
    "    \n",
    "    for line in csv_data:\n",
    "        if line[\"firstName\"] == \"dont add anyone after this line\":\n",
    "            break\n",
    "        names.append(f\"{line['firstName']} {line['lastName']}\")\n",
    "\n",
    "html_output += f\"<p>There are currently {len(names)} names on this list.</p>\"\n",
    "html_output += \"\\n<ul>\"\n",
    "\n",
    "for name in names:\n",
    "    html_output += f\"\\n\\t<li>{name}</li>\"\n",
    "\n",
    "html_output += \"\\n</ul>\"\n",
    "    \n",
    "print(html_output)"
   ]
  },
  {
   "cell_type": "code",
   "execution_count": null,
   "metadata": {
    "collapsed": true
   },
   "outputs": [],
   "source": []
  }
 ],
 "metadata": {
  "kernelspec": {
   "display_name": "Python 3",
   "language": "python",
   "name": "python3"
  },
  "language_info": {
   "codemirror_mode": {
    "name": "ipython",
    "version": 3
   },
   "file_extension": ".py",
   "mimetype": "text/x-python",
   "name": "python",
   "nbconvert_exporter": "python",
   "pygments_lexer": "ipython3",
   "version": "3.6.3"
  }
 },
 "nbformat": 4,
 "nbformat_minor": 2
}

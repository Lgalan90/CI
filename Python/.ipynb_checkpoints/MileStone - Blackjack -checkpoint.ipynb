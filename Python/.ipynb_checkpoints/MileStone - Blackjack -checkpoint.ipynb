{
 "cells": [
  {
   "cell_type": "code",
   "execution_count": 2,
   "metadata": {},
   "outputs": [
    {
     "name": "stdout",
     "output_type": "stream",
     "text": [
      "\n",
      "You are currently at 14\n",
      "with the hand [[4, 'HEART '], ['JACK', 'DIAMOND']]\n",
      "\n",
      "Hit or stay? (Hit = 1, Stay = 0): 1\n",
      "You draw [7, 'CLUB']\n",
      "\n",
      "You are currently at Blackjack!\n",
      "with the hand [[4, 'HEART '], ['JACK', 'DIAMOND'], [7, 'CLUB']]\n",
      "\n",
      "Hit or stay? (Hit = 1, Stay = 0): 0\n",
      "You stayed\n",
      "\n",
      "Dealer is at 13\n",
      "with the hand [[3, 'SPADE'], ['JACK', 'CLUB']]\n",
      "\n",
      "Dealer draws [5, 'HEART ']\n",
      "You beat the dealer!\n"
     ]
    }
   ],
   "source": [
    "from random import shuffle\n",
    "\n",
    "# define the card ranks, and suits\n",
    "ranks = [_ for _ in range(2, 11)] + ['JACK', 'QUEEN', 'KING', 'ACE']\n",
    "suits = ['SPADE', 'HEART ', 'DIAMOND', 'CLUB']\n",
    "\n",
    "def get_deck():\n",
    "    \"\"\"Return a new deck of cards.\"\"\"\n",
    "\n",
    "    return [[rank, suit] for rank in ranks for suit in suits]\n",
    "\n",
    "# get a deck of cards, and randomly shuffle it\n",
    "deck = get_deck()\n",
    "shuffle(deck)\n",
    "\n",
    "# boolean variable that indicates whether player has not 'bust' yet\n",
    "player_in = True\n",
    "\n",
    "# issue the player and dealer their first two cards\n",
    "player_hand = [deck.pop(), deck.pop()]\n",
    "dealer_hand = [deck.pop(), deck.pop()]\n",
    "\n",
    "def card_value(card):\n",
    "    \"\"\"Returns the integer value of a single card.\"\"\"\n",
    "\n",
    "    rank = card[0]\n",
    "    if rank in ranks[0:-4]:\n",
    "        return int(rank)\n",
    "    elif rank is 'ACE':\n",
    "        return 11\n",
    "    else:\n",
    "        return 10\n",
    "\n",
    "def hand_value(hand):\n",
    "    \"\"\"Returns the integer value of a set of cards.\"\"\"\n",
    "\n",
    "    # Naively sum up the cards in the deck.\n",
    "    tmp_value = sum(card_value(_) for _ in hand)\n",
    "    # Count the number of Aces in the hand.\n",
    "    num_aces = len([_ for _ in hand if _[0] is 'ACE'])\n",
    "\n",
    "    # Aces can count for 1, or 11. If it is possible to bring the value of \n",
    "    #the hand under 21 by making 11 -> 1 substitutions, do so.\n",
    "    while num_aces > 0:\n",
    "\n",
    "        if tmp_value > 21 and 'ACE' in ranks:\n",
    "            tmp_value -= 10\n",
    "            num_aces -= 1\n",
    "        else:\n",
    "            break\n",
    "\n",
    "    # Return a string and an integer representing the value of the hand. If \n",
    "    # the hand is bust, return 100.\n",
    "    if tmp_value < 21:\n",
    "        return [str(tmp_value), tmp_value]\n",
    "    elif tmp_value == 21:\n",
    "        return ['Blackjack!', 21]\n",
    "    else:\n",
    "        return ['Bust!', 100]\n",
    "    \n",
    "# As long as the player remains in the game, ask them if they'd like to hit \n",
    "# for another card, or stay with their current hand.\n",
    "while player_in:\n",
    "    # Display the player's current hand, as well as its value.\n",
    "    current_score_str = '''\\nYou are currently at %s\\nwith the hand %s\\n'''\n",
    "    print(current_score_str % (hand_value(player_hand)[0], player_hand))\n",
    "    # If the player's hand is bust, don't ask them for a decision.\n",
    "    if hand_value(player_hand)[1] == 100:\n",
    "        break\n",
    "\n",
    "    if player_in:\n",
    "        response = int(input('Hit or stay? (Hit = 1, Stay = 0): '))\n",
    "        # If the player asks to be hit, take the first card from the top of\n",
    "        # deck and add it to their hand. If they ask to stay, change\n",
    "        # player_in to false, and move on to the dealer's hand.\n",
    "        if response:\n",
    "            player_in = True\n",
    "            new_player_card = deck.pop()\n",
    "            player_hand.append(new_player_card)\n",
    "            print (\"You draw %s\" % new_player_card)\n",
    "        else:\n",
    "            player_in = False\n",
    "            print(\"You stayed\")\n",
    "            \n",
    "player_score_label, player_score = hand_value(player_hand)\n",
    "dealer_score_label, dealer_score = hand_value(dealer_hand)\n",
    "\n",
    "if player_score <= 21:\n",
    "    dealer_hand_string = '''\\nDealer is at %s\\nwith the hand %s\\n'''\n",
    "    print (dealer_hand_string % (dealer_score_label, dealer_hand))\n",
    "else: \n",
    "    print(\"Dealer wins.\")\n",
    "\n",
    "while hand_value(dealer_hand)[1] < 17:\n",
    "    new_dealer_card = deck.pop()\n",
    "    dealer_hand.append(new_dealer_card)\n",
    "    print(\"Dealer draws %s\" % new_dealer_card)\n",
    "    \n",
    "dealer_score_label, dealer_score = hand_value(dealer_hand)\n",
    "\n",
    "if player_score < 100 and dealer_score == 100:\n",
    "    print(\"You beat the dealer!\")\n",
    "elif player_score > dealer_score:\n",
    "    print(\"You beat the dealer!\")\n",
    "elif player_score == dealer_score:\n",
    "    print(\"You tied the dealer, nobody wins.\")\n",
    "elif player_score < dealer_score:\n",
    "    print(\"Dealer wins!\")"
   ]
  },
  {
   "cell_type": "code",
   "execution_count": null,
   "metadata": {
    "collapsed": true
   },
   "outputs": [],
   "source": []
  },
  {
   "cell_type": "code",
   "execution_count": 1,
   "metadata": {},
   "outputs": [],
   "source": [
    "from random import shuffle\n",
    "\n",
    "# define the card ranks, and suits\n",
    "ranks = [_ for _ in range(2, 11)] + ['JACK', 'QUEEN', 'KING', 'ACE']\n",
    "suits = ['SPADE', 'HEART ', 'DIAMOND', 'CLUB']\n",
    "\n",
    "def get_deck():\n",
    "    \"\"\"Return a new deck of cards.\"\"\"\n",
    "\n",
    "    return [[rank, suit] for rank in ranks for suit in suits]\n",
    "\n",
    "# get a deck of cards, and randomly shuffle it\n",
    "deck = get_deck()\n",
    "shuffle(deck)"
   ]
  },
  {
   "cell_type": "code",
   "execution_count": 2,
   "metadata": {},
   "outputs": [
    {
     "name": "stdout",
     "output_type": "stream",
     "text": [
      "[[8, 'HEART '], [5, 'SPADE'], [5, 'HEART '], [10, 'HEART '], [7, 'HEART '], ['KING', 'DIAMOND'], [2, 'DIAMOND'], [4, 'CLUB'], ['ACE', 'HEART '], ['KING', 'CLUB'], [9, 'SPADE'], [6, 'CLUB'], [3, 'DIAMOND'], [10, 'SPADE'], ['JACK', 'HEART '], [10, 'DIAMOND'], ['JACK', 'SPADE'], ['KING', 'SPADE'], [3, 'CLUB'], [2, 'SPADE'], ['QUEEN', 'DIAMOND'], [3, 'HEART '], [9, 'CLUB'], [5, 'CLUB'], [2, 'HEART '], [6, 'HEART '], [4, 'SPADE'], [7, 'CLUB'], [4, 'HEART '], [9, 'DIAMOND'], [4, 'DIAMOND'], [10, 'CLUB'], ['QUEEN', 'HEART '], ['KING', 'HEART '], [5, 'DIAMOND'], [6, 'DIAMOND'], ['ACE', 'SPADE'], [8, 'SPADE'], [3, 'SPADE'], ['QUEEN', 'SPADE'], [7, 'SPADE'], [2, 'CLUB'], ['ACE', 'CLUB'], [6, 'SPADE'], [7, 'DIAMOND'], ['QUEEN', 'CLUB'], ['ACE', 'DIAMOND'], ['JACK', 'CLUB'], [8, 'CLUB'], [8, 'DIAMOND'], ['JACK', 'DIAMOND'], [9, 'HEART ']]\n"
     ]
    }
   ],
   "source": [
    "shuffle(deck)\n",
    "print(deck)"
   ]
  },
  {
   "cell_type": "code",
   "execution_count": 22,
   "metadata": {},
   "outputs": [
    {
     "name": "stdout",
     "output_type": "stream",
     "text": [
      "[['ACE', 'DIAMOND'], [10, 'CLUB'], [2, 'DIAMOND'], [10, 'HEART '], [3, 'DIAMOND'], [4, 'HEART '], [10, 'SPADE'], [6, 'CLUB'], ['KING', 'DIAMOND'], ['ACE', 'SPADE'], ['QUEEN', 'CLUB'], [3, 'CLUB'], [5, 'CLUB'], [4, 'CLUB'], [8, 'DIAMOND'], ['JACK', 'DIAMOND'], [4, 'DIAMOND'], [5, 'DIAMOND'], [3, 'SPADE'], ['JACK', 'CLUB'], [5, 'HEART '], [7, 'CLUB'], [6, 'DIAMOND'], ['QUEEN', 'DIAMOND'], [7, 'SPADE'], [10, 'DIAMOND'], ['QUEEN', 'HEART '], [6, 'SPADE'], [4, 'SPADE'], [9, 'DIAMOND'], ['KING', 'SPADE'], [2, 'HEART '], [6, 'HEART '], [8, 'CLUB'], [3, 'HEART '], [5, 'SPADE'], [2, 'CLUB'], ['KING', 'CLUB'], [7, 'HEART '], ['ACE', 'HEART '], ['QUEEN', 'SPADE'], ['JACK', 'SPADE'], [9, 'CLUB'], ['ACE', 'CLUB'], ['JACK', 'HEART '], ['KING', 'HEART '], [8, 'HEART '], [9, 'HEART '], [2, 'SPADE'], [8, 'SPADE'], [7, 'DIAMOND'], [9, 'SPADE']]\n"
     ]
    }
   ],
   "source": [
    "shuffle(deck)\n",
    "print(deck)"
   ]
  },
  {
   "cell_type": "code",
   "execution_count": 24,
   "metadata": {},
   "outputs": [
    {
     "data": {
      "text/plain": [
       "[[2, 'SPADE'],\n",
       " [2, 'HEART '],\n",
       " [2, 'DIAMOND'],\n",
       " [2, 'CLUB'],\n",
       " [3, 'SPADE'],\n",
       " [3, 'HEART '],\n",
       " [3, 'DIAMOND'],\n",
       " [3, 'CLUB'],\n",
       " [4, 'SPADE'],\n",
       " [4, 'HEART '],\n",
       " [4, 'DIAMOND'],\n",
       " [4, 'CLUB'],\n",
       " [5, 'SPADE'],\n",
       " [5, 'HEART '],\n",
       " [5, 'DIAMOND'],\n",
       " [5, 'CLUB'],\n",
       " [6, 'SPADE'],\n",
       " [6, 'HEART '],\n",
       " [6, 'DIAMOND'],\n",
       " [6, 'CLUB'],\n",
       " [7, 'SPADE'],\n",
       " [7, 'HEART '],\n",
       " [7, 'DIAMOND'],\n",
       " [7, 'CLUB'],\n",
       " [8, 'SPADE'],\n",
       " [8, 'HEART '],\n",
       " [8, 'DIAMOND'],\n",
       " [8, 'CLUB'],\n",
       " [9, 'SPADE'],\n",
       " [9, 'HEART '],\n",
       " [9, 'DIAMOND'],\n",
       " [9, 'CLUB'],\n",
       " [10, 'SPADE'],\n",
       " [10, 'HEART '],\n",
       " [10, 'DIAMOND'],\n",
       " [10, 'CLUB'],\n",
       " ['JACK', 'SPADE'],\n",
       " ['JACK', 'HEART '],\n",
       " ['JACK', 'DIAMOND'],\n",
       " ['JACK', 'CLUB'],\n",
       " ['QUEEN', 'SPADE'],\n",
       " ['QUEEN', 'HEART '],\n",
       " ['QUEEN', 'DIAMOND'],\n",
       " ['QUEEN', 'CLUB'],\n",
       " ['KING', 'SPADE'],\n",
       " ['KING', 'HEART '],\n",
       " ['KING', 'DIAMOND'],\n",
       " ['KING', 'CLUB'],\n",
       " ['ACE', 'SPADE'],\n",
       " ['ACE', 'HEART '],\n",
       " ['ACE', 'DIAMOND'],\n",
       " ['ACE', 'CLUB']]"
      ]
     },
     "execution_count": 24,
     "metadata": {},
     "output_type": "execute_result"
    }
   ],
   "source": [
    "get_deck()"
   ]
  },
  {
   "cell_type": "code",
   "execution_count": 3,
   "metadata": {},
   "outputs": [],
   "source": [
    "from random import shuffle\n",
    "\n",
    "# define the card ranks, and suits\n",
    "ranks = [_ for _ in range(2, 11)] + ['JACK', 'QUEEN', 'KING', 'ACE']\n",
    "suits = ['SPADE', 'HEART ', 'DIAMOND', 'CLUB']\n",
    "\n",
    "def get_deck():\n",
    "    \"\"\"Return a new deck of cards.\"\"\"\n",
    "\n",
    "    return [[rank, suit] for rank in ranks for suit in suits]\n",
    "\n",
    "# get a deck of cards, and randomly shuffle it\n",
    "deck = get_deck()\n",
    "shuffle(deck)\n",
    "\n",
    "# boolean variable that indicates whether player has not 'bust' yet\n",
    "player_in = True\n",
    "\n",
    "# issue the player and dealer their first two cards\n",
    "player_hand = [deck.pop(), deck.pop()]\n",
    "dealer_hand = [deck.pop(), deck.pop()]"
   ]
  },
  {
   "cell_type": "code",
   "execution_count": 4,
   "metadata": {},
   "outputs": [
    {
     "data": {
      "text/plain": [
       "[['JACK', 'SPADE'], [7, 'DIAMOND']]"
      ]
     },
     "execution_count": 4,
     "metadata": {},
     "output_type": "execute_result"
    }
   ],
   "source": [
    "player_hand"
   ]
  },
  {
   "cell_type": "code",
   "execution_count": 4,
   "metadata": {},
   "outputs": [],
   "source": [
    "def card_value(card):\n",
    "    \"\"\"Returns the integer value of a single card.\"\"\"\n",
    "\n",
    "    rank = card[0]\n",
    "    if rank in ranks[0:-4]:\n",
    "        return int(rank)\n",
    "    elif rank is 'ACE':\n",
    "        return 11\n",
    "    else:\n",
    "        return 10\n",
    "\n",
    "def hand_value(hand):\n",
    "    \"\"\"Returns the integer value of a set of cards.\"\"\"\n",
    "\n",
    "    # Naively sum up the cards in the deck.\n",
    "    tmp_value = sum(card_value(_) for _ in hand)\n",
    "    # Count the number of Aces in the hand.\n",
    "    num_aces = len([_ for _ in hand if _[0] is 'ACE'])\n",
    "\n",
    "    # Aces can count for 1, or 11. If it is possible to bring the value of \n",
    "    #the hand under 21 by making 11 -> 1 substitutions, do so.\n",
    "    while num_aces > 0:\n",
    "\n",
    "        if tmp_value > 21 and 'ACE' in ranks:\n",
    "            tmp_value -= 10\n",
    "            num_aces -= 1\n",
    "        else:\n",
    "            break\n",
    "\n",
    "    # Return a string and an integer representing the value of the hand. If \n",
    "    # the hand is bust, return 100.\n",
    "    if tmp_value < 21:\n",
    "        return [str(tmp_value), tmp_value]\n",
    "    elif tmp_value == 21:\n",
    "        return ['Blackjack!', 21]\n",
    "    else:\n",
    "        return ['Bust!', 100]"
   ]
  },
  {
   "cell_type": "code",
   "execution_count": 29,
   "metadata": {},
   "outputs": [
    {
     "ename": "NameError",
     "evalue": "name 'hand' is not defined",
     "output_type": "error",
     "traceback": [
      "\u001b[0;31m---------------------------------------------------------------------------\u001b[0m",
      "\u001b[0;31mNameError\u001b[0m                                 Traceback (most recent call last)",
      "\u001b[0;32m<ipython-input-29-8b11614a1401>\u001b[0m in \u001b[0;36m<module>\u001b[0;34m()\u001b[0m\n\u001b[0;32m----> 1\u001b[0;31m \u001b[0mhand_value\u001b[0m\u001b[0;34m(\u001b[0m\u001b[0mhand\u001b[0m\u001b[0;34m)\u001b[0m\u001b[0;34m\u001b[0m\u001b[0m\n\u001b[0m",
      "\u001b[0;31mNameError\u001b[0m: name 'hand' is not defined"
     ]
    }
   ],
   "source": [
    "hand_value(hand)"
   ]
  },
  {
   "cell_type": "code",
   "execution_count": 5,
   "metadata": {},
   "outputs": [
    {
     "name": "stdout",
     "output_type": "stream",
     "text": [
      "\n",
      "You are currently at Blackjack!\n",
      "with the hand [[10, 'CLUB'], ['ACE', 'HEART ']]\n",
      "\n",
      "Hit or stay? (Hit = 1, Stay = 0): 1\n",
      "You draw [3, 'SPADE']\n",
      "\n",
      "You are currently at 14\n",
      "with the hand [[10, 'CLUB'], ['ACE', 'HEART '], [3, 'SPADE']]\n",
      "\n",
      "Hit or stay? (Hit = 1, Stay = 0): 0\n",
      "You stayed\n"
     ]
    }
   ],
   "source": [
    "# As long as the player remains in the game, ask them if they'd like to hit \n",
    "# for another card, or stay with their current hand.\n",
    "while player_in:\n",
    "    # Display the player's current hand, as well as its value.\n",
    "    current_score_str = '''\\nYou are currently at %s\\nwith the hand %s\\n'''\n",
    "    print(current_score_str % (hand_value(player_hand)[0], player_hand))\n",
    "    # If the player's hand is bust, don't ask them for a decision.\n",
    "    if hand_value(player_hand)[1] == 100:\n",
    "        break\n",
    "\n",
    "    if player_in:\n",
    "        response = int(input('Hit or stay? (Hit = 1, Stay = 0): '))\n",
    "        # If the player asks to be hit, take the first card from the top of\n",
    "        # deck and add it to their hand. If they ask to stay, change\n",
    "        # player_in to false, and move on to the dealer's hand.\n",
    "        if response:\n",
    "            player_in = True\n",
    "            new_player_card = deck.pop()\n",
    "            player_hand.append(new_player_card)\n",
    "            print (\"You draw %s\" % new_player_card)\n",
    "        else:\n",
    "            player_in = False\n",
    "            print(\"You stayed\")"
   ]
  },
  {
   "cell_type": "code",
   "execution_count": 7,
   "metadata": {},
   "outputs": [
    {
     "name": "stdout",
     "output_type": "stream",
     "text": [
      "\n",
      "Dealer is at 12\n",
      "with the hand [[4, 'CLUB'], [8, 'SPADE']]\n",
      "\n",
      "Dealer draws ['ACE', 'DIAMOND']\n",
      "Dealer draws [5, 'HEART ']\n"
     ]
    }
   ],
   "source": [
    "player_score_label, player_score = hand_value(player_hand)\n",
    "dealer_score_label, dealer_score = hand_value(dealer_hand)\n",
    "\n",
    "if player_score <= 21:\n",
    "    dealer_hand_string = '''\\nDealer is at %s\\nwith the hand %s\\n'''\n",
    "    print (dealer_hand_string % (dealer_score_label, dealer_hand))\n",
    "else: \n",
    "    print(\"Dealer wins.\")\n",
    "\n",
    "while hand_value(dealer_hand)[1] < 17:\n",
    "    new_dealer_card = deck.pop()\n",
    "    dealer_hand.append(new_dealer_card)\n",
    "    print(\"Dealer draws %s\" % new_dealer_card)"
   ]
  },
  {
   "cell_type": "code",
   "execution_count": 10,
   "metadata": {},
   "outputs": [
    {
     "name": "stdout",
     "output_type": "stream",
     "text": [
      "Dealer wins!\n"
     ]
    }
   ],
   "source": [
    "dealer_score_label, dealer_score = hand_value(dealer_hand)\n",
    "\n",
    "if player_score < 100 and dealer_score == 100:\n",
    "    print(\"You beat the dealer!\")\n",
    "elif player_score > dealer_score:\n",
    "    print(\"You beat the dealer!\")\n",
    "elif player_score == dealer_score:\n",
    "    print(\"You tied the dealer, nobody wins.\")\n",
    "elif player_score < dealer_score:\n",
    "    print(\"Dealer wins!\")"
   ]
  },
  {
   "cell_type": "code",
   "execution_count": null,
   "metadata": {
    "collapsed": true
   },
   "outputs": [],
   "source": []
  },
  {
   "cell_type": "code",
   "execution_count": null,
   "metadata": {
    "collapsed": true
   },
   "outputs": [],
   "source": [
    "\n",
    "\"\"\"\n",
    "class Board(object):\n",
    "    def __init__(self,board):\n",
    "        self.board = board\n",
    "\n",
    "class Tic(object):\n",
    "    \n",
    "    def __init__(self,turn):\n",
    "        self.turn = turn\n",
    "        self.board = [' ',' ',' ',\n",
    "                      ' ',' ',' ',\n",
    "                      ' ',' ',' ']\n",
    "        \n",
    "    def printboard(self):\n",
    "        print (self.board[0], '|', self.board[1], '|', self.board[2])\n",
    "        print ('----------')\n",
    "        print (self.board[3], '|', self.board[4], '|', self.board[5])\n",
    "        print ('----------')\n",
    "        print (self.board[6], '|', self.board[7], '|', self.board[8])\n",
    "    \n",
    "    def computersTurn(self):\n",
    "        computersTurn = random.randrange(1, 10)\n",
    "        if turn.board != 'o' or turn.board != 'x' or turn.board == ' ':\n",
    "            computersTurn.input == 'o'\n",
    "        \n",
    "    def updateboard(self):\n",
    "        while True:\n",
    "            self.printboard()\n",
    "            try:\n",
    "                choice = int(input(\"Pick a number: \"))\n",
    "                self.board[choice - 1] = self.turn\n",
    "            except:\n",
    "                print(\"Invalid! Try again.\")\n",
    "\"\"\""
   ]
  },
  {
   "cell_type": "code",
   "execution_count": null,
   "metadata": {
    "collapsed": true
   },
   "outputs": [],
   "source": [
    "c = Tic(turn = \"x\")\n",
    "c.updateboard()\n",
    "c.printboard()\n",
    "c.playerTurn()\n",
    "c.computersTurn()"
   ]
  },
  {
   "cell_type": "code",
   "execution_count": 3,
   "metadata": {},
   "outputs": [
    {
     "ename": "SyntaxError",
     "evalue": "invalid syntax (<ipython-input-3-8de645dc2443>, line 25)",
     "output_type": "error",
     "traceback": [
      "\u001b[0;36m  File \u001b[0;32m\"<ipython-input-3-8de645dc2443>\"\u001b[0;36m, line \u001b[0;32m25\u001b[0m\n\u001b[0;31m    else:\u001b[0m\n\u001b[0m       ^\u001b[0m\n\u001b[0;31mSyntaxError\u001b[0m\u001b[0;31m:\u001b[0m invalid syntax\n"
     ]
    }
   ],
   "source": []
  },
  {
   "cell_type": "code",
   "execution_count": null,
   "metadata": {
    "collapsed": true
   },
   "outputs": [],
   "source": []
  }
 ],
 "metadata": {
  "kernelspec": {
   "display_name": "Python 3",
   "language": "python",
   "name": "python3"
  },
  "language_info": {
   "codemirror_mode": {
    "name": "ipython",
    "version": 3
   },
   "file_extension": ".py",
   "mimetype": "text/x-python",
   "name": "python",
   "nbconvert_exporter": "python",
   "pygments_lexer": "ipython3",
   "version": "3.6.3"
  }
 },
 "nbformat": 4,
 "nbformat_minor": 2
}

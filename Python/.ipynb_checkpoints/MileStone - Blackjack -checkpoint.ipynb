{
 "cells": [
  {
   "cell_type": "code",
   "execution_count": null,
   "metadata": {},
   "outputs": [],
   "source": [
    "\"\"\"\n",
    "class Player(object):\n",
    "    \n",
    "    def __init__(self,chips, board):\n",
    "        self.chips = chips\n",
    "        self.board = board\n",
    "        \n",
    "    def winChips(self,amount):\n",
    "        self.chips += amount\n",
    "    \n",
    "    def loseChips(self,amount):\n",
    "        self.chips -= amount\n",
    "\"\"\"\n",
    "\n",
    "class Board(object):\n",
    "    def __init__(self,board):\n",
    "        self.board = board\n",
    "\n",
    "class Tic(object):\n",
    "    \n",
    "    def __init__(self,turn):\n",
    "        self.turn = turn\n",
    "        self.board = [' ',' ',' ',\n",
    "                      ' ',' ',' ',\n",
    "                      ' ',' ',' ']\n",
    "        \n",
    "    def printboard(self):\n",
    "        print (self.board[0], '|', self.board[1], '|', self.board[2])\n",
    "        print ('----------')\n",
    "        print (self.board[3], '|', self.board[4], '|', self.board[5])\n",
    "        print ('----------')\n",
    "        print (self.board[6], '|', self.board[7], '|', self.board[8])\n",
    "    \n",
    "    def computersTurn(self):\n",
    "        computersTurn = random.randrange(1, 10)\n",
    "        if turn.board != 'o' or turn.board != 'x' or turn.board == ' ':\n",
    "            computersTurn.input == 'o'\n",
    "        \n",
    "    def updateboard(self):\n",
    "        while True:\n",
    "            self.printboard()\n",
    "            try:\n",
    "                choice = int(input(\"Pick a number: \"))\n",
    "                self.board[choice - 1] = self.turn\n",
    "            except:\n",
    "                print(\"Invalid! Try again.\")\n"
   ]
  },
  {
   "cell_type": "code",
   "execution_count": null,
   "metadata": {},
   "outputs": [
    {
     "name": "stdout",
     "output_type": "stream",
     "text": [
      "  |   |  \n",
      "----------\n",
      "  |   |  \n",
      "----------\n",
      "  |   |  \n",
      "Pick a number: 1\n",
      "x |   |  \n",
      "----------\n",
      "  |   |  \n",
      "----------\n",
      "  |   |  \n",
      "Pick a number: 2\n",
      "x | x |  \n",
      "----------\n",
      "  |   |  \n",
      "----------\n",
      "  |   |  \n",
      "Pick a number: 3\n",
      "x | x | x\n",
      "----------\n",
      "  |   |  \n",
      "----------\n",
      "  |   |  \n",
      "Pick a number: 4\n",
      "x | x | x\n",
      "----------\n",
      "x |   |  \n",
      "----------\n",
      "  |   |  \n",
      "Pick a number: 5\n",
      "x | x | x\n",
      "----------\n",
      "x | x |  \n",
      "----------\n",
      "  |   |  \n"
     ]
    }
   ],
   "source": [
    "c = Tic(turn = \"x\")\n",
    "c.updateboard()\n",
    "c.printboard()\n",
    "c.playerTurn()\n",
    "c.computersTurn()"
   ]
  },
  {
   "cell_type": "markdown",
   "metadata": {
    "collapsed": true
   },
   "source": []
  },
  {
   "cell_type": "code",
   "execution_count": 6,
   "metadata": {},
   "outputs": [
    {
     "data": {
      "text/plain": [
       "90"
      ]
     },
     "execution_count": 6,
     "metadata": {},
     "output_type": "execute_result"
    }
   ],
   "source": []
  },
  {
   "cell_type": "code",
   "execution_count": 1,
   "metadata": {},
   "outputs": [
    {
     "ename": "ModuleNotFoundError",
     "evalue": "No module named 'pygame'",
     "output_type": "error",
     "traceback": [
      "\u001b[0;31m---------------------------------------------------------------------------\u001b[0m",
      "\u001b[0;31mModuleNotFoundError\u001b[0m                       Traceback (most recent call last)",
      "\u001b[0;32m<ipython-input-1-3c93790ae559>\u001b[0m in \u001b[0;36m<module>\u001b[0;34m()\u001b[0m\n\u001b[1;32m      1\u001b[0m \u001b[0;31m#!/usr/bin/python\u001b[0m\u001b[0;34m\u001b[0m\u001b[0;34m\u001b[0m\u001b[0m\n\u001b[1;32m      2\u001b[0m \u001b[0;34m\u001b[0m\u001b[0m\n\u001b[0;32m----> 3\u001b[0;31m \u001b[0;32mimport\u001b[0m \u001b[0mpygame\u001b[0m\u001b[0;34m\u001b[0m\u001b[0m\n\u001b[0m\u001b[1;32m      4\u001b[0m \u001b[0;34m\u001b[0m\u001b[0m\n\u001b[1;32m      5\u001b[0m \u001b[0mpygame\u001b[0m\u001b[0;34m.\u001b[0m\u001b[0minit\u001b[0m\u001b[0;34m(\u001b[0m\u001b[0;34m)\u001b[0m\u001b[0;34m\u001b[0m\u001b[0m\n",
      "\u001b[0;31mModuleNotFoundError\u001b[0m: No module named 'pygame'"
     ]
    }
   ],
   "source": []
  },
  {
   "cell_type": "code",
   "execution_count": null,
   "metadata": {
    "collapsed": true
   },
   "outputs": [],
   "source": []
  }
 ],
 "metadata": {
  "kernelspec": {
   "display_name": "Python 3",
   "language": "python",
   "name": "python3"
  },
  "language_info": {
   "codemirror_mode": {
    "name": "ipython",
    "version": 3
   },
   "file_extension": ".py",
   "mimetype": "text/x-python",
   "name": "python",
   "nbconvert_exporter": "python",
   "pygments_lexer": "ipython3",
   "version": "3.6.3"
  }
 },
 "nbformat": 4,
 "nbformat_minor": 2
}

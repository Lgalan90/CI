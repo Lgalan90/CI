{
 "cells": [
  {
   "cell_type": "code",
   "execution_count": 1,
   "metadata": {},
   "outputs": [
    {
     "name": "stdout",
     "output_type": "stream",
     "text": [
      "Imported my_module...\n",
      "/Users/lg2538/Documents/CI-Repo/Python/my_module.py\n"
     ]
    }
   ],
   "source": [
    "import my_module\n",
    "\n",
    "course = [\"History\", \"Math\", \"Physics\", \"Computer Science\"]\n",
    "\n",
    "print(my_module.__file__)"
   ]
  },
  {
   "cell_type": "code",
   "execution_count": 2,
   "metadata": {},
   "outputs": [
    {
     "name": "stdout",
     "output_type": "stream",
     "text": [
      "1\n"
     ]
    }
   ],
   "source": [
    "import my_module\n",
    "\n",
    "course = [\"History\", \"Math\", \"Physics\", \"Computer Science\"]\n",
    "\n",
    "index = my_module.find_index(course,\"Math\")\n",
    "print(index)"
   ]
  },
  {
   "cell_type": "code",
   "execution_count": 3,
   "metadata": {},
   "outputs": [
    {
     "name": "stdout",
     "output_type": "stream",
     "text": [
      "1\n"
     ]
    }
   ],
   "source": [
    "import my_module as mm\n",
    "\n",
    "course = [\"History\", \"Math\", \"Physics\", \"Computer Science\"]\n",
    "\n",
    "index = mm.find_index(course,\"Math\")\n",
    "print(index)"
   ]
  },
  {
   "cell_type": "code",
   "execution_count": 4,
   "metadata": {},
   "outputs": [
    {
     "name": "stdout",
     "output_type": "stream",
     "text": [
      "1\n"
     ]
    }
   ],
   "source": [
    "#only give us access to the find_index function\n",
    "from my_module import find_index\n",
    "\n",
    "course = [\"History\", \"Math\", \"Physics\", \"Computer Science\"]\n",
    "\n",
    "index = find_index(course,\"Math\")\n",
    "print(index)"
   ]
  },
  {
   "cell_type": "code",
   "execution_count": 1,
   "metadata": {},
   "outputs": [
    {
     "name": "stdout",
     "output_type": "stream",
     "text": [
      "Imported my_module...\n",
      "1\n",
      "Test String\n"
     ]
    }
   ],
   "source": [
    "#only give us access to the find_index and test functions\n",
    "from my_module import find_index, test\n",
    "\n",
    "course = [\"History\", \"Math\", \"Physics\", \"Computer Science\"]\n",
    "\n",
    "index = find_index(course,\"Math\")\n",
    "print(index)\n",
    "print(test)"
   ]
  },
  {
   "cell_type": "code",
   "execution_count": 1,
   "metadata": {},
   "outputs": [
    {
     "name": "stdout",
     "output_type": "stream",
     "text": [
      "Imported my_module...\n",
      "1\n",
      "Test String\n"
     ]
    }
   ],
   "source": [
    "#only give us access to the find_index and test functions. add alias\n",
    "# this example is not readable is is not good practice\n",
    "from my_module import find_index as fi, test\n",
    "\n",
    "course = [\"History\", \"Math\", \"Physics\", \"Computer Science\"]\n",
    "\n",
    "index = fi(course,\"Math\")\n",
    "print(index)\n",
    "print(test)"
   ]
  },
  {
   "cell_type": "code",
   "execution_count": 1,
   "metadata": {},
   "outputs": [
    {
     "name": "stdout",
     "output_type": "stream",
     "text": [
      "Imported my_module...\n",
      "1\n",
      "Test String\n"
     ]
    }
   ],
   "source": [
    "# * is also not best practice because you can't tell what came from\n",
    "#the imported module and what didn't\n",
    "from my_module import *\n",
    "\n",
    "course = [\"History\", \"Math\", \"Physics\", \"Computer Science\"]\n",
    "\n",
    "index = find_index(course,\"Math\")\n",
    "print(index)\n",
    "print(test)"
   ]
  },
  {
   "cell_type": "code",
   "execution_count": 1,
   "metadata": {},
   "outputs": [
    {
     "name": "stdout",
     "output_type": "stream",
     "text": [
      "Imported my_module...\n",
      "['', '/anaconda3/lib/python36.zip', '/anaconda3/lib/python3.6', '/anaconda3/lib/python3.6/lib-dynload', '/anaconda3/lib/python3.6/site-packages', '/anaconda3/lib/python3.6/site-packages/aeosa', '/anaconda3/lib/python3.6/site-packages/IPython/extensions', '/Users/lg2538/.ipython']\n"
     ]
    }
   ],
   "source": [
    "#only give us access to the find_index and test functions\n",
    "from my_module import find_index, test\n",
    "import sys\n",
    "\n",
    "course = [\"History\", \"Math\", \"Physics\", \"Computer Science\"]\n",
    "\n",
    "index = find_index(course,\"Math\")\n",
    "\n",
    "print(sys.path)"
   ]
  },
  {
   "cell_type": "code",
   "execution_count": null,
   "metadata": {
    "collapsed": true
   },
   "outputs": [],
   "source": [
    "#only give us access to the find_index and test functions\n",
    "import sys\n",
    "#sys.path.append(\"location/of/your/module/folder\")\n",
    "\n",
    "from my_module import find_index, test\n",
    "\n",
    "\n",
    "course = [\"History\", \"Math\", \"Physics\", \"Computer Science\"]\n",
    "\n",
    "index = find_index(course,\"Math\")\n",
    "\n",
    "print(sys.path)"
   ]
  },
  {
   "cell_type": "code",
   "execution_count": 17,
   "metadata": {},
   "outputs": [
    {
     "name": "stdout",
     "output_type": "stream",
     "text": [
      "Physics\n"
     ]
    }
   ],
   "source": [
    "import random \n",
    "\n",
    "course = [\"History\", \"Math\", \"Physics\", \"Computer Science\"]\n",
    "\n",
    "rads = random.choice(course)\n",
    "\n",
    "print(random_course)"
   ]
  },
  {
   "cell_type": "code",
   "execution_count": 12,
   "metadata": {},
   "outputs": [
    {
     "name": "stdout",
     "output_type": "stream",
     "text": [
      "1.5707963267948966\n",
      "1.0\n"
     ]
    }
   ],
   "source": [
    "import math \n",
    "\n",
    "course = [\"History\", \"Math\", \"Physics\", \"Computer Science\"]\n",
    "\n",
    "rads = math.radians(90)\n",
    "\n",
    "print(rads)\n",
    "print(math.sin(rads))"
   ]
  },
  {
   "cell_type": "code",
   "execution_count": 20,
   "metadata": {},
   "outputs": [
    {
     "name": "stdout",
     "output_type": "stream",
     "text": [
      "2017-12-14\n",
      "True\n"
     ]
    }
   ],
   "source": [
    "import datetime \n",
    "import calendar\n",
    "\n",
    "course = [\"History\", \"Math\", \"Physics\", \"Computer Science\"]\n",
    "\n",
    "today = datetime.date.today()\n",
    "\n",
    "print(today)\n",
    "print(calendar.isleap(2020))"
   ]
  },
  {
   "cell_type": "code",
   "execution_count": 21,
   "metadata": {},
   "outputs": [
    {
     "name": "stdout",
     "output_type": "stream",
     "text": [
      "/Users/lg2538/Documents/CI-Repo/Python\n"
     ]
    }
   ],
   "source": [
    "import os \n",
    "\n",
    "course = [\"History\", \"Math\", \"Physics\", \"Computer Science\"]\n",
    "\n",
    "#shows current working directory \n",
    "print(os.getcwd())"
   ]
  },
  {
   "cell_type": "code",
   "execution_count": 24,
   "metadata": {},
   "outputs": [
    {
     "name": "stdout",
     "output_type": "stream",
     "text": [
      "/anaconda3/lib/python3.6/os.py\n"
     ]
    }
   ],
   "source": [
    "import os \n",
    "\n",
    "course = [\"History\", \"Math\", \"Physics\", \"Computer Science\"]\n",
    "\n",
    "#shows path to os file we've imported\n",
    "print(os.__file__)"
   ]
  },
  {
   "cell_type": "code",
   "execution_count": 9,
   "metadata": {},
   "outputs": [
    {
     "name": "stdout",
     "output_type": "stream",
     "text": [
      "Buzz\n",
      "Fizz\n",
      "Buzz\n",
      "Buzz\n",
      "Fizz\n",
      "Buzz\n",
      "FizzBuzz\n",
      "Fizz\n",
      "Buzz\n",
      "Buzz\n",
      "Fizz\n",
      "Buzz\n",
      "Buzz\n",
      "Fizz\n",
      "Buzz\n",
      "FizzBuzz\n",
      "Fizz\n",
      "Buzz\n",
      "Buzz\n",
      "Fizz\n",
      "Buzz\n",
      "Buzz\n",
      "Fizz\n",
      "Buzz\n",
      "FizzBuzz\n",
      "Fizz\n",
      "Buzz\n",
      "Buzz\n",
      "Fizz\n",
      "Buzz\n",
      "Buzz\n",
      "Fizz\n",
      "Buzz\n",
      "FizzBuzz\n",
      "Fizz\n",
      "Buzz\n",
      "Buzz\n",
      "Fizz\n",
      "Buzz\n",
      "Buzz\n",
      "Fizz\n",
      "Buzz\n",
      "FizzBuzz\n",
      "Fizz\n",
      "Buzz\n",
      "Buzz\n",
      "Fizz\n",
      "Buzz\n",
      "Buzz\n",
      "Fizz\n",
      "Buzz\n",
      "FizzBuzz\n",
      "Fizz\n",
      "Buzz\n",
      "Buzz\n",
      "Fizz\n",
      "Buzz\n",
      "Buzz\n",
      "Fizz\n",
      "100\n"
     ]
    }
   ],
   "source": [
    "count = True\n",
    "for count in range(1,101):\n",
    "    if count % 5 == 0 and count % 3 == 0:\n",
    "        print(\"FizzBuzz\")\n",
    "    if count % 5 == 0:\n",
    "        print(\"Fizz\")\n",
    "    if count % 3 == 0:\n",
    "        print(\"Buzz\")\n",
    "print(count)\n",
    "count = count + 1"
   ]
  },
  {
   "cell_type": "code",
   "execution_count": null,
   "metadata": {
    "collapsed": true
   },
   "outputs": [],
   "source": []
  }
 ],
 "metadata": {
  "kernelspec": {
   "display_name": "Python 3",
   "language": "python",
   "name": "python3"
  },
  "language_info": {
   "codemirror_mode": {
    "name": "ipython",
    "version": 3
   },
   "file_extension": ".py",
   "mimetype": "text/x-python",
   "name": "python",
   "nbconvert_exporter": "python",
   "pygments_lexer": "ipython3",
   "version": "3.6.3"
  }
 },
 "nbformat": 4,
 "nbformat_minor": 2
}

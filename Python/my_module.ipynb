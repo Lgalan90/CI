{
 "cells": [
  {
   "cell_type": "code",
   "execution_count": null,
   "metadata": {
    "collapsed": true
   },
   "outputs": [],
   "source": [
    "print(\"Imported my_module...\")\n",
    "\n",
    "test = \"Test String\"\n",
    "\n",
    "def find_index(to_search, target):\n",
    "    \"\"\"find the index value in a sequence\"\"\"\n",
    "    \n",
    "    for i, value in enumerate(to_search):\n",
    "        if value == target:\n",
    "            return i\n",
    "        \n",
    "return -1"
   ]
  }
 ],
 "metadata": {
  "kernelspec": {
   "display_name": "Python 3",
   "language": "python",
   "name": "python3"
  },
  "language_info": {
   "codemirror_mode": {
    "name": "ipython",
    "version": 3
   },
   "file_extension": ".py",
   "mimetype": "text/x-python",
   "name": "python",
   "nbconvert_exporter": "python",
   "pygments_lexer": "ipython3",
   "version": "3.6.3"
  }
 },
 "nbformat": 4,
 "nbformat_minor": 2
}
